{
  "nbformat": 4,
  "nbformat_minor": 0,
  "metadata": {
    "colab": {
      "name": "UploadLargFilesFromGoogleDrive.ipynb",
      "provenance": [],
      "collapsed_sections": [],
      "authorship_tag": "ABX9TyOGixzfuJj3Vtuxdg/gTqYN",
      "include_colab_link": true
    },
    "kernelspec": {
      "name": "python3",
      "display_name": "Python 3"
    }
  },
  "cells": [
    {
      "cell_type": "markdown",
      "metadata": {
        "id": "view-in-github",
        "colab_type": "text"
      },
      "source": [
        "<a href=\"https://colab.research.google.com/github/mp-rocha/utilities/blob/master/UploadLargFilesFromGoogleDrive.ipynb\" target=\"_parent\"><img src=\"https://colab.research.google.com/assets/colab-badge.svg\" alt=\"Open In Colab\"/></a>"
      ]
    },
    {
      "cell_type": "markdown",
      "metadata": {
        "id": "3lsoX37SHpkb",
        "colab_type": "text"
      },
      "source": [
        "## How to Upload large files to Google Colab and remote Jupyter notebooks using Google Drive\n",
        "\n",
        "**Source**: [link](https://www.freecodecamp.org/news/how-to-transfer-large-files-to-google-colab-and-remote-jupyter-notebooks-26ca252892fa/)"
      ]
    },
    {
      "cell_type": "code",
      "metadata": {
        "id": "I6GKqt9SoutH",
        "colab_type": "code",
        "colab": {}
      },
      "source": [
        "!pip install PyDrive"
      ],
      "execution_count": 0,
      "outputs": []
    },
    {
      "cell_type": "code",
      "metadata": {
        "id": "3KhlVIcQqv65",
        "colab_type": "code",
        "colab": {}
      },
      "source": [
        "import os\n",
        "from pydrive.auth import GoogleAuth\n",
        "from pydrive.drive import GoogleDrive\n",
        "from google.colab import auth\n",
        "from oauth2client.client import GoogleCredentials"
      ],
      "execution_count": 0,
      "outputs": []
    },
    {
      "cell_type": "code",
      "metadata": {
        "id": "plgEC3qTq0PF",
        "colab_type": "code",
        "colab": {}
      },
      "source": [
        "auth.authenticate_user()\n",
        "gauth = GoogleAuth()\n",
        "gauth.credentials = GoogleCredentials.get_application_default()\n",
        "drive = GoogleDrive(gauth)"
      ],
      "execution_count": 0,
      "outputs": []
    },
    {
      "cell_type": "code",
      "metadata": {
        "id": "m--JKRXqGJuM",
        "colab_type": "code",
        "colab": {}
      },
      "source": [
        "# Copy ID from archive (https://drive.google.com/open?id=YOUR_FILE_ID)\n",
        "# Download train dataset\n",
        "\n",
        "download_train = drive.CreateFile({'id': '1r_okCeIok1mwGI3pfGZni40F_ucZdL2O'})\n",
        "download_train.GetContentFile('train.tar')"
      ],
      "execution_count": 0,
      "outputs": []
    },
    {
      "cell_type": "code",
      "metadata": {
        "id": "5UMYzMrfsXJk",
        "colab_type": "code",
        "colab": {}
      },
      "source": [
        "# Download train dataset\n",
        "\n",
        "download_test = drive.CreateFile({'id': '1E1HO0GK3gKvIUdzTPTO0Yum-I11uC72I'})\n",
        "download_test.GetContentFile('test.tar')"
      ],
      "execution_count": 0,
      "outputs": []
    },
    {
      "cell_type": "code",
      "metadata": {
        "id": "DVx02QpaGo28",
        "colab_type": "code",
        "colab": {}
      },
      "source": [
        "# Download submission dataset\n",
        "\n",
        "download_sub = drive.CreateFile({'id': '1QOIgPtaLHNuGJFYe0pPZUk9cdiGn511r'})\n",
        "download_sub.GetContentFile('submission.tar')"
      ],
      "execution_count": 0,
      "outputs": []
    },
    {
      "cell_type": "code",
      "metadata": {
        "id": "nhMHYKyjG44k",
        "colab_type": "code",
        "colab": {
          "base_uri": "https://localhost:8080/",
          "height": 54
        },
        "outputId": "957856ec-571a-481f-c986-a4971b57363e"
      },
      "source": [
        "download"
      ],
      "execution_count": 7,
      "outputs": [
        {
          "output_type": "execute_result",
          "data": {
            "text/plain": [
              "GoogleDriveFile({'id': '1QOIgPtaLHNuGJFYe0pPZUk9cdiGn511r', 'kind': 'drive#file', 'etag': '\"30jMLj3-m0JdGNLPUS2QqbEXiN0/MTU3ODYxMzY1OTUzMA\"', 'selfLink': 'https://www.googleapis.com/drive/v2/files/1QOIgPtaLHNuGJFYe0pPZUk9cdiGn511r', 'webContentLink': 'https://drive.google.com/a/usp.br/uc?id=1QOIgPtaLHNuGJFYe0pPZUk9cdiGn511r&export=download', 'alternateLink': 'https://drive.google.com/a/usp.br/file/d/1QOIgPtaLHNuGJFYe0pPZUk9cdiGn511r/view?usp=drivesdk', 'embedLink': 'https://drive.google.com/a/usp.br/file/d/1QOIgPtaLHNuGJFYe0pPZUk9cdiGn511r/preview?usp=drivesdk', 'iconLink': 'https://drive-thirdparty.googleusercontent.com/16/type/text/csv', 'title': 'sample_submission.csv', 'mimeType': 'text/csv', 'labels': {'starred': False, 'hidden': False, 'trashed': False, 'restricted': False, 'viewed': True}, 'copyRequiresWriterPermission': False, 'createdDate': '2020-01-09T23:47:39.530Z', 'modifiedDate': '2020-01-09T23:47:39.530Z', 'modifiedByMeDate': '2020-01-09T23:47:39.530Z', 'lastViewedByMeDate': '2020-01-10T20:17:33.565Z', 'markedViewedByMeDate': '1970-01-01T00:00:00.000Z', 'version': '3', 'parents': [{'kind': 'drive#parentReference', 'id': '1AVwbsg3dNfhHg0MCWuc8E4bvVqizIjM0', 'selfLink': 'https://www.googleapis.com/drive/v2/files/1QOIgPtaLHNuGJFYe0pPZUk9cdiGn511r/parents/1AVwbsg3dNfhHg0MCWuc8E4bvVqizIjM0', 'parentLink': 'https://www.googleapis.com/drive/v2/files/1AVwbsg3dNfhHg0MCWuc8E4bvVqizIjM0', 'isRoot': False}], 'downloadUrl': 'https://doc-10-bs-docs.googleusercontent.com/docs/securesc/hnsdk8qmbddpcm2s0dtjm70gba4kpkq7/auk6d6fbtvcvgrusdl7mp5ja6uik2n2s/1578686400000/13327556812416490922/13327556812416490922/1QOIgPtaLHNuGJFYe0pPZUk9cdiGn511r?h=16237042018603567729&e=download&gd=true', 'userPermission': {'kind': 'drive#permission', 'etag': '\"30jMLj3-m0JdGNLPUS2QqbEXiN0/n-Uq_xqWjSRGHCDU4EqQHgCaR4A\"', 'id': 'me', 'selfLink': 'https://www.googleapis.com/drive/v2/files/1QOIgPtaLHNuGJFYe0pPZUk9cdiGn511r/permissions/me', 'role': 'owner', 'type': 'user'}, 'originalFilename': 'sample_submission.csv', 'fileExtension': 'csv', 'md5Checksum': '76de28afa3f59e33823cd137ef661c08', 'fileSize': '2688905', 'quotaBytesUsed': '2688905', 'ownerNames': ['Marcos Paulo Alves da Rocha'], 'owners': [{'kind': 'drive#user', 'displayName': 'Marcos Paulo Alves da Rocha', 'picture': {'url': 'https://lh3.googleusercontent.com/a-/AAuE7mDzuRLtzonJqxxv2A6FWB5jcUU0AZwV_GTdZy5GyQ=s64'}, 'isAuthenticatedUser': True, 'permissionId': '13327556812416490922', 'emailAddress': 'marcos.paulo.rocha@usp.br'}], 'lastModifyingUserName': 'Marcos Paulo Alves da Rocha', 'lastModifyingUser': {'kind': 'drive#user', 'displayName': 'Marcos Paulo Alves da Rocha', 'picture': {'url': 'https://lh3.googleusercontent.com/a-/AAuE7mDzuRLtzonJqxxv2A6FWB5jcUU0AZwV_GTdZy5GyQ=s64'}, 'isAuthenticatedUser': True, 'permissionId': '13327556812416490922', 'emailAddress': 'marcos.paulo.rocha@usp.br'}, 'capabilities': {'canCopy': True, 'canEdit': True}, 'editable': True, 'copyable': True, 'writersCanShare': True, 'shared': False, 'explicitlyTrashed': False, 'appDataContents': False, 'headRevisionId': '0B2baIJ9xBVvbNUVqUGlJSXd0NDRqY1BVUklqOHdSRzZ4bG5FPQ', 'spaces': ['drive']})"
            ]
          },
          "metadata": {
            "tags": []
          },
          "execution_count": 7
        }
      ]
    },
    {
      "cell_type": "code",
      "metadata": {
        "id": "reYcgEsgHEMo",
        "colab_type": "code",
        "colab": {}
      },
      "source": [
        "import pandas as pd\n",
        "\n",
        "df_train = pd.read_csv(\"/content/train.tar\")\n",
        "print(df_train.head())"
      ],
      "execution_count": 0,
      "outputs": []
    }
  ]
}